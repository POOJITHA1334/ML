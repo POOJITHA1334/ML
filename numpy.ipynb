{
  "nbformat": 4,
  "nbformat_minor": 0,
  "metadata": {
    "colab": {
      "provenance": [],
      "authorship_tag": "ABX9TyPllM8ajiw/laPPAhSwRUFx",
      "include_colab_link": true
    },
    "kernelspec": {
      "name": "python3",
      "display_name": "Python 3"
    },
    "language_info": {
      "name": "python"
    }
  },
  "cells": [
    {
      "cell_type": "markdown",
      "metadata": {
        "id": "view-in-github",
        "colab_type": "text"
      },
      "source": [
        "<a href=\"https://colab.research.google.com/github/POOJITHA1334/ML/blob/main/numpy.ipynb\" target=\"_parent\"><img src=\"https://colab.research.google.com/assets/colab-badge.svg\" alt=\"Open In Colab\"/></a>"
      ]
    },
    {
      "cell_type": "code",
      "execution_count": null,
      "metadata": {
        "colab": {
          "base_uri": "https://localhost:8080/"
        },
        "id": "aJqv28rtc0Bo",
        "outputId": "f9d8bc33-3474-4935-f631-3caf27af81b9"
      },
      "outputs": [
        {
          "output_type": "stream",
          "name": "stdout",
          "text": [
            "[1 3 4]\n"
          ]
        }
      ],
      "source": [
        "import numpy as np\n",
        "a=np.array([1,3,4])\n",
        "print(a)"
      ]
    },
    {
      "cell_type": "code",
      "source": [
        "import numpy as np\n",
        "a=np.array([1,3,4])\n",
        "print(a.shape)"
      ],
      "metadata": {
        "colab": {
          "base_uri": "https://localhost:8080/"
        },
        "id": "9B4nriLaeiUu",
        "outputId": "6e40cc5c-a9a1-455a-b4d9-e2941e03b461"
      },
      "execution_count": null,
      "outputs": [
        {
          "output_type": "stream",
          "name": "stdout",
          "text": [
            "(3,)\n"
          ]
        }
      ]
    },
    {
      "cell_type": "code",
      "source": [
        "import numpy as np\n",
        "a=np.ones((4,3,2))\n",
        "print(a)"
      ],
      "metadata": {
        "colab": {
          "base_uri": "https://localhost:8080/"
        },
        "id": "cLwSNj-ver5f",
        "outputId": "70606ad9-5fd8-4c5e-b8e6-9b2ace0d53e0"
      },
      "execution_count": null,
      "outputs": [
        {
          "output_type": "stream",
          "name": "stdout",
          "text": [
            "[[[1. 1.]\n",
            "  [1. 1.]\n",
            "  [1. 1.]]\n",
            "\n",
            " [[1. 1.]\n",
            "  [1. 1.]\n",
            "  [1. 1.]]\n",
            "\n",
            " [[1. 1.]\n",
            "  [1. 1.]\n",
            "  [1. 1.]]\n",
            "\n",
            " [[1. 1.]\n",
            "  [1. 1.]\n",
            "  [1. 1.]]]\n"
          ]
        }
      ]
    },
    {
      "cell_type": "code",
      "source": [
        "d=np.eye(5)\n",
        "print(d)\n"
      ],
      "metadata": {
        "colab": {
          "base_uri": "https://localhost:8080/"
        },
        "id": "iFK317_NfRVs",
        "outputId": "2665f9af-28a6-4880-98d0-6ecb7f00ffe6"
      },
      "execution_count": null,
      "outputs": [
        {
          "output_type": "stream",
          "name": "stdout",
          "text": [
            "[[1. 0. 0. 0. 0.]\n",
            " [0. 1. 0. 0. 0.]\n",
            " [0. 0. 1. 0. 0.]\n",
            " [0. 0. 0. 1. 0.]\n",
            " [0. 0. 0. 0. 1.]]\n"
          ]
        }
      ]
    },
    {
      "cell_type": "markdown",
      "source": [
        "we can also use np.ones,np.zeros and np.random.random\n"
      ],
      "metadata": {
        "id": "FL4T-enZftT0"
      }
    },
    {
      "cell_type": "code",
      "source": [
        "import numpy as np\n",
        "d=np.arange(10,60,5)\n",
        "print(d)"
      ],
      "metadata": {
        "colab": {
          "base_uri": "https://localhost:8080/"
        },
        "id": "Y9eYo7gOgqDI",
        "outputId": "3f131646-ed08-4e1e-b23f-b02b314a38a4"
      },
      "execution_count": null,
      "outputs": [
        {
          "output_type": "stream",
          "name": "stdout",
          "text": [
            "[10 15 20 25 30 35 40 45 50 55]\n"
          ]
        }
      ]
    },
    {
      "cell_type": "code",
      "source": [
        "f=np.linspace(0,20,6)\n",
        "print(f)"
      ],
      "metadata": {
        "colab": {
          "base_uri": "https://localhost:8080/"
        },
        "id": "J5pLWKa_hX8g",
        "outputId": "6e054d46-0f7d-4018-e8e3-fdf4c19b8f40"
      },
      "execution_count": null,
      "outputs": [
        {
          "output_type": "stream",
          "name": "stdout",
          "text": [
            "[ 0.  4.  8. 12. 16. 20.]\n"
          ]
        }
      ]
    },
    {
      "cell_type": "markdown",
      "source": [
        "data slicing in array:\n",
        "slicing of an array with more than one dimension, you should specify the slice for each dimension."
      ],
      "metadata": {
        "id": "O2c5MwgFh9qE"
      }
    },
    {
      "cell_type": "code",
      "source": [
        "a=np.ones((2,2))\n",
        "print(a)\n"
      ],
      "metadata": {
        "colab": {
          "base_uri": "https://localhost:8080/"
        },
        "id": "qeCrBWAZiRlu",
        "outputId": "b42badec-2320-4d80-8bc4-5b7653f1797d"
      },
      "execution_count": null,
      "outputs": [
        {
          "output_type": "stream",
          "name": "stdout",
          "text": [
            "[[1. 1.]\n",
            " [1. 1.]]\n"
          ]
        }
      ]
    },
    {
      "cell_type": "code",
      "source": [
        "a = np.array([[1, 2], [4, 5]])\n",
        "b=a[1:2]\n",
        "print(b)"
      ],
      "metadata": {
        "colab": {
          "base_uri": "https://localhost:8080/"
        },
        "id": "2LMx8qJlhstX",
        "outputId": "0671302b-4fa4-4d34-8de8-226bbe75bf41"
      },
      "execution_count": null,
      "outputs": [
        {
          "output_type": "stream",
          "name": "stdout",
          "text": [
            "[[4 5]]\n"
          ]
        }
      ]
    },
    {
      "cell_type": "code",
      "source": [
        "a=np.array([[2,3,4],[4,5,9]])\n",
        "b=a[1:4,1:3]#first row 3 row and first column and and second column\n",
        "print(b)"
      ],
      "metadata": {
        "colab": {
          "base_uri": "https://localhost:8080/"
        },
        "id": "db6OqJailLLX",
        "outputId": "1998cc7d-ba80-4907-be71-c02cea192ed1"
      },
      "execution_count": null,
      "outputs": [
        {
          "output_type": "stream",
          "name": "stdout",
          "text": [
            "[[5 9]]\n"
          ]
        }
      ]
    },
    {
      "cell_type": "code",
      "source": [
        "a=np.array([[2,3,4,5],[4,5,9,6],[4,5,6,3]])\n",
        "print(a)"
      ],
      "metadata": {
        "colab": {
          "base_uri": "https://localhost:8080/"
        },
        "id": "uru79BdWmIDl",
        "outputId": "8bdd23bf-8bcd-410f-91bc-4462286d50b8"
      },
      "execution_count": null,
      "outputs": [
        {
          "output_type": "stream",
          "name": "stdout",
          "text": [
            "[[2 3 4 5]\n",
            " [4 5 9 6]\n",
            " [4 5 6 3]]\n"
          ]
        }
      ]
    },
    {
      "cell_type": "code",
      "source": [
        "r1=a[1,:]#row 2 is displayed at a[1]\n",
        "r2=a[1:2,:]# here shape differs so that the elments are shown in nested array\n",
        "r3=a[[1],:]\n",
        "print(r1,r1.shape)\n",
        "print(r2,r2.shape)\n",
        "print(r3,r3.shape)"
      ],
      "metadata": {
        "colab": {
          "base_uri": "https://localhost:8080/"
        },
        "id": "T93QREo5m1Ga",
        "outputId": "30225812-c241-4b23-a8b4-0d5d24dbebc2"
      },
      "execution_count": null,
      "outputs": [
        {
          "output_type": "stream",
          "name": "stdout",
          "text": [
            "[4 5 9 6] (4,)\n",
            "[[4 5 9 6]] (1, 4)\n",
            "[[4 5 9 6]] (1, 4)\n"
          ]
        }
      ]
    },
    {
      "cell_type": "code",
      "source": [
        "c1=a[:,1]\n",
        "c2=a[:,1:2]\n",
        "print(c1,c1.shape)\n",
        "print(c2,c2.shape)"
      ],
      "metadata": {
        "colab": {
          "base_uri": "https://localhost:8080/"
        },
        "id": "gNsmxFWKnybD",
        "outputId": "33e1915e-8c8d-45ef-94a0-e74ba899ef53"
      },
      "execution_count": null,
      "outputs": [
        {
          "output_type": "stream",
          "name": "stdout",
          "text": [
            "[3 5 5] (3,)\n",
            "[[3]\n",
            " [5]\n",
            " [5]] (3, 1)\n"
          ]
        }
      ]
    },
    {
      "cell_type": "code",
      "source": [
        "import numpy as np\n",
        "a=np.array([[1,2,3,4],[3,5,7,5],[6,8,9,0],[5,8,9,3]])\n",
        "b=np.array([2,0,3,1])\n",
        "print(a[np.arange(4)],b)"
      ],
      "metadata": {
        "colab": {
          "base_uri": "https://localhost:8080/"
        },
        "id": "Hz6lHEDk4_40",
        "outputId": "87d00839-0c90-49af-ebed-09cb8941efaf"
      },
      "execution_count": null,
      "outputs": [
        {
          "output_type": "stream",
          "name": "stdout",
          "text": [
            "[[1 2 3 4]\n",
            " [3 5 7 5]\n",
            " [6 8 9 0]\n",
            " [5 8 9 3]] [2 0 3 1]\n"
          ]
        }
      ]
    },
    {
      "cell_type": "markdown",
      "source": [
        "bool indexing"
      ],
      "metadata": {
        "id": "W6NwbfXt-Cfb"
      }
    },
    {
      "cell_type": "code",
      "source": [
        "a=np.array([[1,2],[3,4],[5,6]])\n",
        "b=(a>2)\n",
        "print(b)"
      ],
      "metadata": {
        "colab": {
          "base_uri": "https://localhost:8080/"
        },
        "id": "RLb3n0yv9pOI",
        "outputId": "1ff2114c-2063-4f5e-8e07-a82429d61856"
      },
      "execution_count": null,
      "outputs": [
        {
          "output_type": "stream",
          "name": "stdout",
          "text": [
            "[[False False]\n",
            " [ True  True]\n",
            " [ True  True]]\n"
          ]
        }
      ]
    },
    {
      "cell_type": "markdown",
      "source": [
        "1 argmax(get index of maximum element in array\n",
        "2 where(get index of elements that meet some condition"
      ],
      "metadata": {
        "id": "bhLcRFKR-G93"
      }
    },
    {
      "cell_type": "code",
      "source": [
        "a=np.array([1,5,6,-2,4,6,7,9])\n",
        "print(np.argmax(a))\n",
        "print(np.argmin(a))\n",
        "print(np.argsort(a))\n",
        "print(np.argsort(a)[::-1])\n",
        "print(np.where(a<5)[0])\n",
        "print(np.where(a>=a[np.argmax(a)])[0])\n"
      ],
      "metadata": {
        "colab": {
          "base_uri": "https://localhost:8080/"
        },
        "id": "Uc8MWWx4-gXe",
        "outputId": "e14c1c94-95f5-473d-dc1b-60d3a6c3a245"
      },
      "execution_count": null,
      "outputs": [
        {
          "output_type": "stream",
          "name": "stdout",
          "text": [
            "7\n",
            "3\n",
            "[3 0 4 1 2 5 6 7]\n",
            "[7 6 5 2 1 4 0 3]\n",
            "[0 3 4]\n",
            "[7]\n"
          ]
        }
      ]
    },
    {
      "cell_type": "code",
      "source": [
        "a=[0]\n",
        "a=np.append(a, [1,2,3,4])\n",
        "print(a)"
      ],
      "metadata": {
        "colab": {
          "base_uri": "https://localhost:8080/"
        },
        "id": "bATTmvfV-ebg",
        "outputId": "f119fb77-7fe1-4dc6-d103-b421c231348a"
      },
      "execution_count": null,
      "outputs": [
        {
          "output_type": "stream",
          "name": "stdout",
          "text": [
            "[0 1 2 3 4]\n"
          ]
        }
      ]
    },
    {
      "cell_type": "code",
      "source": [
        "a=np.array([[1,2,3,4],[3,5,7,5],[6,8,9,0],[5,8,9,3]])\n",
        "a=np.sort(a,axis=0,kind='quicksort')\n",
        "print(a)"
      ],
      "metadata": {
        "colab": {
          "base_uri": "https://localhost:8080/"
        },
        "id": "ajK6Cv2AA0M0",
        "outputId": "bf74e26b-b04e-40a1-fa00-7d4bdd12a3a5"
      },
      "execution_count": null,
      "outputs": [
        {
          "output_type": "stream",
          "name": "stdout",
          "text": [
            "[[1 2 3 0]\n",
            " [3 5 7 3]\n",
            " [5 8 9 4]\n",
            " [6 8 9 5]]\n"
          ]
        }
      ]
    },
    {
      "cell_type": "code",
      "source": [
        "import numpy as np\n",
        "v=np.array([[1,2],[3,4]])\n",
        "w=np.array([[4,6],[8,9]])\n",
        "print(v.dot(w))"
      ],
      "metadata": {
        "colab": {
          "base_uri": "https://localhost:8080/"
        },
        "id": "MIsUEeJQD0pj",
        "outputId": "cefb3952-26be-4c0c-af09-c1ceb9b165ac"
      },
      "execution_count": null,
      "outputs": [
        {
          "output_type": "stream",
          "name": "stdout",
          "text": [
            "[[20 24]\n",
            " [44 54]]\n"
          ]
        }
      ]
    },
    {
      "cell_type": "code",
      "source": [
        "w=np.array([[1],[3],[9]])\n",
        "z=w.squeeze()\n",
        "print(z)\n",
        "print(z.shape)"
      ],
      "metadata": {
        "colab": {
          "base_uri": "https://localhost:8080/"
        },
        "id": "UW28sTmSDPrM",
        "outputId": "d0b037a1-5963-46b2-a877-3e1d5d50edef"
      },
      "execution_count": null,
      "outputs": [
        {
          "output_type": "stream",
          "name": "stdout",
          "text": [
            "[1 3 9]\n",
            "(3,)\n"
          ]
        }
      ]
    },
    {
      "cell_type": "code",
      "source": [
        "w=np.array([[1],[3],[9]])\n",
        "y=w.reshape(-1,)\n",
        "print(y)\n"
      ],
      "metadata": {
        "colab": {
          "base_uri": "https://localhost:8080/"
        },
        "id": "ztOc0izXFXAd",
        "outputId": "91b904a6-4d2e-4a8e-ade2-f084b7f84bab"
      },
      "execution_count": null,
      "outputs": [
        {
          "output_type": "stream",
          "name": "stdout",
          "text": [
            "[1 3 9]\n"
          ]
        }
      ]
    },
    {
      "cell_type": "markdown",
      "source": [
        "rule 1:  "
      ],
      "metadata": {
        "id": "b6XSGGx8GHXo"
      }
    },
    {
      "cell_type": "code",
      "source": [
        "a=np.array([1,2,3])\n",
        "b=np.array([[0],[1],[2]])\n",
        "c=a+b\n",
        "a\n"
      ],
      "metadata": {
        "colab": {
          "base_uri": "https://localhost:8080/"
        },
        "id": "C1WsEC5hGMbI",
        "outputId": "5fda302d-4060-4357-c799-400200f9d3dd"
      },
      "execution_count": null,
      "outputs": [
        {
          "output_type": "execute_result",
          "data": {
            "text/plain": [
              "array([1, 2, 3])"
            ]
          },
          "metadata": {},
          "execution_count": 36
        }
      ]
    },
    {
      "cell_type": "code",
      "source": [
        "a=np.array([1,2,3])\n",
        "b=np.array([[0],[1],[3]])\n",
        "c=a+b\n",
        "c"
      ],
      "metadata": {
        "colab": {
          "base_uri": "https://localhost:8080/"
        },
        "id": "pWf8NUULGqwT",
        "outputId": "a286e5cb-a455-4b04-9287-1e4480a59877"
      },
      "execution_count": null,
      "outputs": [
        {
          "output_type": "execute_result",
          "data": {
            "text/plain": [
              "array([[1, 2, 3],\n",
              "       [2, 3, 4],\n",
              "       [4, 5, 6]])"
            ]
          },
          "metadata": {},
          "execution_count": 38
        }
      ]
    }
  ]
}